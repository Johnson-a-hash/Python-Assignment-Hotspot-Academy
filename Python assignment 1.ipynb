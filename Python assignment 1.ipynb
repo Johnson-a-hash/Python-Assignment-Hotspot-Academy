{
 "cells": [
  {
   "cell_type": "markdown",
   "metadata": {},
   "source": [
    "# Assignment"
   ]
  },
  {
   "cell_type": "code",
   "execution_count": 1,
   "metadata": {},
   "outputs": [],
   "source": [
    "pythonlist = ['Ama', 54, 'Kojo', 45.5, 'Yhup', 52, 'Kwame', 96, 'Kwesi', 87, 'Roland', True, 'Nti',\n",
    "             45, 78.5, 'William', 68, 45.3, 78, 'Patty', False, 98, True, 'Adwoa',21, 65, 'Pappy',\n",
    "             14, 'Folly', False, 52, 'Pency']"
   ]
  },
  {
   "cell_type": "markdown",
   "metadata": {},
   "source": [
    "1. create four empty lists:\n",
    "a. Floats\n",
    "b. Ints\n",
    "c. Strings\n",
    "d. Booleans\n"
   ]
  },
  {
   "cell_type": "markdown",
   "metadata": {},
   "source": [
    "\n",
    "2. For each item in the \"pythonlist\", place it in the right set created above.\n",
    "\n",
    "3. For the strings and booleans sets, sort the items\n",
    "\n",
    "4. For the int set, print out the 3rd and 5th highest number\n",
    "\n",
    "5. For the float set, print out the 2nd largest number"
   ]
  },
  {
   "cell_type": "markdown",
   "metadata": {},
   "source": [
    "# Question 1"
   ]
  },
  {
   "cell_type": "code",
   "execution_count": 2,
   "metadata": {},
   "outputs": [],
   "source": [
    "import pandas as pd"
   ]
  },
  {
   "cell_type": "code",
   "execution_count": 3,
   "metadata": {},
   "outputs": [],
   "source": [
    "strings = []\n",
    "ints = []\n",
    "booleans = []\n",
    "floats = []"
   ]
  },
  {
   "cell_type": "markdown",
   "metadata": {},
   "source": [
    "# Question 2"
   ]
  },
  {
   "cell_type": "code",
   "execution_count": 4,
   "metadata": {},
   "outputs": [],
   "source": [
    "for i in pythonlist:\n",
    "    if type(i) == str:\n",
    "        strings.append(i)\n",
    "    elif type(i) == int:\n",
    "        ints.append(i)\n",
    "    elif type(i) == float:\n",
    "        floats.append(i)\n",
    "    elif type(i) == bool:\n",
    "        booleans.append(i)"
   ]
  },
  {
   "cell_type": "code",
   "execution_count": 5,
   "metadata": {},
   "outputs": [
    {
     "name": "stdout",
     "output_type": "stream",
     "text": [
      "['Ama', 'Kojo', 'Yhup', 'Kwame', 'Kwesi', 'Roland', 'Nti', 'William', 'Patty', 'Adwoa', 'Pappy', 'Folly', 'Pency']\n",
      "[54, 52, 96, 87, 45, 68, 78, 98, 21, 65, 14, 52]\n",
      "[45.5, 78.5, 45.3]\n",
      "[True, False, True, False]\n"
     ]
    }
   ],
   "source": [
    "print(strings)\n",
    "print(ints)\n",
    "print(floats)\n",
    "print(booleans)"
   ]
  },
  {
   "cell_type": "markdown",
   "metadata": {},
   "source": [
    "# Question 3"
   ]
  },
  {
   "cell_type": "code",
   "execution_count": 6,
   "metadata": {},
   "outputs": [
    {
     "name": "stdout",
     "output_type": "stream",
     "text": [
      "['Adwoa', 'Ama', 'Folly', 'Kojo', 'Kwame', 'Kwesi', 'Nti', 'Pappy', 'Patty', 'Pency', 'Roland', 'William', 'Yhup']\n",
      "[False, False, True, True]\n"
     ]
    }
   ],
   "source": [
    "strings.sort()\n",
    "booleans.sort()\n",
    "print(strings)\n",
    "print(booleans)"
   ]
  },
  {
   "cell_type": "markdown",
   "metadata": {},
   "source": [
    "# Question 4"
   ]
  },
  {
   "cell_type": "code",
   "execution_count": 7,
   "metadata": {},
   "outputs": [
    {
     "name": "stdout",
     "output_type": "stream",
     "text": [
      "87\n",
      "68\n"
     ]
    }
   ],
   "source": [
    "def largeNumber(list1, N):\n",
    "    final_list = []\n",
    "    for i in range(0, N):\n",
    "        max1 = 0\n",
    "\n",
    "        for j in range(len(list1)):\n",
    "            if list1[j] > max1:\n",
    "                max1 = list1[j]\n",
    "        list1.remove(max1)\n",
    "        final_list.append(max1)\n",
    "\n",
    "    return final_list\n",
    "\n",
    "\n",
    "# third and fith heighest numbers\n",
    "heighest_numbers_form_1_to_5 = largeNumber(ints, 5)\n",
    "third_highest_number = heighest_numbers_form_1_to_5[2]\n",
    "print(third_highest_number)\n",
    "fith_highest_number = heighest_numbers_form_1_to_5[4]\n",
    "print(fith_highest_number)\n"
   ]
  },
  {
   "cell_type": "code",
   "execution_count": 8,
   "metadata": {},
   "outputs": [
    {
     "name": "stdout",
     "output_type": "stream",
     "text": [
      "45.5\n"
     ]
    }
   ],
   "source": [
    "# second largest number in the float\n",
    "second_largest_number = largeNumber(floats,2)\n",
    "print(second_largest_number[1])"
   ]
  }
 ],
 "metadata": {
  "kernelspec": {
   "display_name": "Python 3",
   "language": "python",
   "name": "python3"
  },
  "language_info": {
   "codemirror_mode": {
    "name": "ipython",
    "version": 3
   },
   "file_extension": ".py",
   "mimetype": "text/x-python",
   "name": "python",
   "nbconvert_exporter": "python",
   "pygments_lexer": "ipython3",
   "version": "3.8.8"
  }
 },
 "nbformat": 4,
 "nbformat_minor": 2
}
